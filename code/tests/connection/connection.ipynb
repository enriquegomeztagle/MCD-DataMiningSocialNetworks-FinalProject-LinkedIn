{
 "cells": [
  {
   "cell_type": "code",
   "execution_count": 1,
   "metadata": {},
   "outputs": [],
   "source": [
    "# %pip install pyspark==3.5.1 neo4j"
   ]
  },
  {
   "cell_type": "code",
   "execution_count": 2,
   "metadata": {},
   "outputs": [],
   "source": [
    "url = \"neo4j://localhost:7687\"\n",
    "username = \"neo4j\"\n",
    "password = \"password\"\n",
    "dbname = \"neo4j\"\n",
    "jar_path = \"../../../utils/jars/neo4j-connector-apache-spark_2.12-5.3.8_for_spark_3.jar\""
   ]
  },
  {
   "cell_type": "code",
   "execution_count": 3,
   "metadata": {},
   "outputs": [
    {
     "name": "stdout",
     "output_type": "stream",
     "text": [
      "🔄 No existing SparkSession found. Creating a new one...\n",
      "✅ SparkSession created successfully.\n",
      "🔥 Spark is running — version: 3.5.6\n"
     ]
    }
   ],
   "source": [
    "from pyspark.sql import SparkSession\n",
    "\n",
    "\n",
    "def create_spark_session():\n",
    "    return (\n",
    "        SparkSession.builder.appName(\"Neo4jIntegration\")\n",
    "        .config(\n",
    "            \"spark.jars\",\n",
    "            jar_path,\n",
    "        )\n",
    "        .config(\"spark.neo4j.url\", url)\n",
    "        .config(\"spark.neo4j.authentication.type\", \"basic\")\n",
    "        .config(\"spark.neo4j.authentication.basic.username\", username)\n",
    "        .config(\"spark.neo4j.authentication.basic.password\", password)\n",
    "        .config(\"neo4j.url\", url)\n",
    "        .config(\"neo4j.authentication.type\", \"basic\")\n",
    "        .config(\"neo4j.authentication.basic.username\", username)\n",
    "        .config(\"neo4j.authentication.basic.password\", password)\n",
    "        .config(\"neo4j.database\", dbname)\n",
    "        .getOrCreate()\n",
    "    )\n",
    "\n",
    "\n",
    "try:\n",
    "    spark\n",
    "except NameError:\n",
    "    print(\"🔄 No existing SparkSession found. Creating a new one...\")\n",
    "    spark = create_spark_session()\n",
    "    print(\"✅ SparkSession created successfully.\")\n",
    "else:\n",
    "    if spark._jsparkSession is None:\n",
    "        print(\"⚠️ Existing SparkSession is not active. Recreating it...\")\n",
    "        spark = create_spark_session()\n",
    "        print(\"✅ SparkSession re-created successfully.\")\n",
    "    else:\n",
    "        print(\"✅ SparkSession is already active.\")\n",
    "\n",
    "print(f\"🔥 Spark is running — version: {spark.version}\")"
   ]
  },
  {
   "cell_type": "code",
   "execution_count": 4,
   "metadata": {},
   "outputs": [
    {
     "name": "stdout",
     "output_type": "stream",
     "text": [
      "List of jars:\n",
      "Vector(spark://KRAKEN:51976/jars/neo4j-connector-apache-spark_2.12-5.3.8_for_spark_3.jar)\n"
     ]
    }
   ],
   "source": [
    "print(\"List of jars:\")\n",
    "print(spark.sparkContext._jsc.sc().listJars())"
   ]
  },
  {
   "cell_type": "code",
   "execution_count": 5,
   "metadata": {},
   "outputs": [
    {
     "name": "stdout",
     "output_type": "stream",
     "text": [
      "+----+--------+\n",
      "|<id>|<labels>|\n",
      "+----+--------+\n",
      "+----+--------+\n",
      "\n"
     ]
    }
   ],
   "source": [
    "df = spark.read.format(\"org.neo4j.spark.DataSource\").option(\"labels\", \"User\").load()\n",
    "\n",
    "df.show()"
   ]
  },
  {
   "cell_type": "code",
   "execution_count": null,
   "metadata": {},
   "outputs": [],
   "source": []
  }
 ],
 "metadata": {
  "kernelspec": {
   "display_name": "Spark351",
   "language": "python",
   "name": "python3"
  },
  "language_info": {
   "codemirror_mode": {
    "name": "ipython",
    "version": 3
   },
   "file_extension": ".py",
   "mimetype": "text/x-python",
   "name": "python",
   "nbconvert_exporter": "python",
   "pygments_lexer": "ipython3",
   "version": "3.12.11"
  }
 },
 "nbformat": 4,
 "nbformat_minor": 4
}
