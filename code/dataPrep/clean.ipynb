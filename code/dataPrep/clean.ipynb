{
 "cells": [
  {
   "cell_type": "code",
   "execution_count": 6,
   "metadata": {},
   "outputs": [],
   "source": [
    "base_path = \"../data/\"\n",
    "import pandas as pd"
   ]
  },
  {
   "cell_type": "code",
   "execution_count": 1,
   "metadata": {},
   "outputs": [],
   "source": [
    "def clean_data(df):\n",
    "    pattern_cut = r\"[\\(,].*$\"\n",
    "    for col in [\"First Name\", \"Last Name\"]:\n",
    "        df[col] = df[col].str.replace(pattern_cut, \"\", regex=True).str.strip()\n",
    "    sufijos = r\"\\b(MSc|BSc|PhD|MBA|DBA|CCIE|CISSP|PMP|CEH|ENP|FRSA)\\b\\.?,?\"\n",
    "    for col in [\"First Name\", \"Last Name\"]:\n",
    "        df[col] = df[col].str.replace(sufijos, \"\", regex=True, case=False).str.strip()\n",
    "    emoji_pat = r\"[\\U00010000-\\U0010ffff]\"\n",
    "    for col in [\"First Name\", \"Last Name\"]:\n",
    "        df[col] = df[col].str.replace(emoji_pat, \"\", regex=True)\n",
    "    hyphen_pat = r\"(?<=\\w)-(?=\\w)\"\n",
    "    for col in [\"First Name\", \"Last Name\"]:\n",
    "        df[col] = (\n",
    "            df[col]\n",
    "            .str.replace(hyphen_pat, \" \", regex=True)\n",
    "            .str.replace(r\"\\s+\", \" \", regex=True)\n",
    "            .str.strip()\n",
    "        )\n",
    "    particles = [\" de los \", \" de la \", \" del \", \" y \"]\n",
    "    for p in particles:\n",
    "        for col in [\"First Name\", \"Last Name\"]:\n",
    "            df[col] = df[col].str.replace(p, \" \", case=False, regex=False)\n",
    "    valid_chars = r\"[^A-Za-zÁÉÍÓÚÑáéíóúñ\\s]\"\n",
    "    for col in [\"First Name\", \"Last Name\"]:\n",
    "        df[col] = df[col].str.replace(valid_chars, \"\", regex=True)\n",
    "    for col in [\"First Name\", \"Last Name\"]:\n",
    "        df[col] = df[col].str.replace(r\"\\s+\", \" \", regex=True).str.strip()\n",
    "    for col in [\"First Name\", \"Last Name\"]:\n",
    "        df[col] = df[col].str.title()\n",
    "    return df\n",
    "\n",
    "\n",
    "df = pd.read_csv(base_path + \"Connections.csv\")\n",
    "\n",
    "df_clean = clean_data(df.copy())\n",
    "df_clean.head()\n",
    "\n",
    "df_clean.to_csv(base_path + \"Connections.csv\")"
   ]
  },
  {
   "cell_type": "code",
   "execution_count": 3,
   "metadata": {},
   "outputs": [],
   "source": [
    "import pandas as pd\n",
    "\n",
    "\n",
    "def clean_data(df):\n",
    "    pattern_cut = r\"[\\(,].*$\"\n",
    "    for col in [\"To\"]:\n",
    "        df[col] = df[col].str.replace(pattern_cut, \"\", regex=True).str.strip()\n",
    "    sufijos = r\"\\b(MSc|BSc|PhD|MBA|DBA|CCIE|CISSP|PMP|CEH|ENP|FRSA)\\b\\.?,?\"\n",
    "    for col in [\"To\"]:\n",
    "        df[col] = df[col].str.replace(sufijos, \"\", regex=True, case=False).str.strip()\n",
    "    emoji_pat = r\"[\\U00010000-\\U0010ffff]\"\n",
    "    for col in [\"To\"]:\n",
    "        df[col] = df[col].str.replace(emoji_pat, \"\", regex=True)\n",
    "    hyphen_pat = r\"(?<=\\w)-(?=\\w)\"\n",
    "    for col in [\"To\"]:\n",
    "        df[col] = (\n",
    "            df[col]\n",
    "            .str.replace(hyphen_pat, \" \", regex=True)\n",
    "            .str.replace(r\"\\s+\", \" \", regex=True)\n",
    "            .str.strip()\n",
    "        )\n",
    "    particles = [\" de los \", \" de la \", \" del \", \" y \", \" de \"]\n",
    "    for p in particles:\n",
    "        for col in [\"To\"]:\n",
    "            df[col] = df[col].str.replace(p, \" \", case=False, regex=False)\n",
    "    valid_chars = r\"[^A-Za-zÁÉÍÓÚÑáéíóúñ\\s]\"\n",
    "    for col in [\"To\"]:\n",
    "        df[col] = df[col].str.replace(valid_chars, \"\", regex=True)\n",
    "    for col in [\"To\"]:\n",
    "        df[col] = df[col].str.replace(r\"\\s+\", \" \", regex=True).str.strip()\n",
    "    for col in [\"To\"]:\n",
    "        df[col] = df[col].str.title()\n",
    "    return df\n",
    "\n",
    "\n",
    "df = pd.read_csv(base_path + \"Invitations.csv\")\n",
    "\n",
    "df_clean = clean_data(df.copy())\n",
    "df_clean.head()\n",
    "\n",
    "df_clean.to_csv(base_path + \"Invitations.csv\")"
   ]
  },
  {
   "cell_type": "code",
   "execution_count": null,
   "metadata": {},
   "outputs": [],
   "source": []
  }
 ],
 "metadata": {
  "kernelspec": {
   "display_name": "Spark351",
   "language": "python",
   "name": "python3"
  },
  "language_info": {
   "codemirror_mode": {
    "name": "ipython",
    "version": 3
   },
   "file_extension": ".py",
   "mimetype": "text/x-python",
   "name": "python",
   "nbconvert_exporter": "python",
   "pygments_lexer": "ipython3",
   "version": "3.12.11"
  }
 },
 "nbformat": 4,
 "nbformat_minor": 2
}
